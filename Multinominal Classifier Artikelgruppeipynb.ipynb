{
 "cells": [
  {
   "cell_type": "code",
   "execution_count": 15,
   "metadata": {},
   "outputs": [
    {
     "name": "stdout",
     "output_type": "stream",
     "text": [
      "                                             Artikel        Artikelgruppe\n",
      "0         Aufschnitt 6-fach sortiert 1/2 Stück 1,3kg  Wurst Spezialitäten\n",
      "1  Aufschnitt sortiert geschnitten gefächert Atmo...  Wurst Spezialitäten\n",
      "2    Back Hinterschinken geschnitten in Schale 0,5kg             Schinken\n",
      "3            Backhinterschinken rund 1/2 Stück 1,9kg             Schinken\n",
      "4                            Bacon geschnitten 0,5kg                Speck\n"
     ]
    }
   ],
   "source": [
    "import pandas as pd\n",
    "import numpy as np\n",
    "import nltk\n",
    "\n",
    "\n",
    "#df = pd.read_excel(r\"C:\\Users\\Maximilian.Rasch\\Desktop\\Projekt 2\\MS Bestelleinheiten.xlsx\", sheet_name=\"Data\")\n",
    "\n",
    "\n",
    "df = pd.read_excel(r\"C:\\Users\\Max\\Desktop\\Github Projects\\Multinominal-Classification-Artikelgruppen\\X Bestelleinheiten.xlsx\", sheet_name=\"Data\")\n",
    "\n",
    "df2 = df[[\"Artikel\", \"Artikelgruppe\"]]\n",
    "\n",
    "print(df2.head(5))"
   ]
  },
  {
   "cell_type": "code",
   "execution_count": 16,
   "metadata": {},
   "outputs": [
    {
     "name": "stderr",
     "output_type": "stream",
     "text": [
      "[nltk_data] Downloading package stopwords to\n",
      "[nltk_data]     C:\\Users\\Max\\AppData\\Roaming\\nltk_data...\n",
      "[nltk_data]   Unzipping corpora\\stopwords.zip.\n"
     ]
    },
    {
     "data": {
      "text/plain": [
       "True"
      ]
     },
     "execution_count": 16,
     "metadata": {},
     "output_type": "execute_result"
    }
   ],
   "source": [
    "nltk.download('stopwords')"
   ]
  },
  {
   "cell_type": "code",
   "execution_count": 17,
   "metadata": {},
   "outputs": [
    {
     "name": "stdout",
     "output_type": "stream",
     "text": [
      "                                             Artikel        Artikelgruppe  \\\n",
      "0         Aufschnitt 6-fach sortiert 1/2 Stück 1,3kg  Wurst Spezialitäten   \n",
      "1  Aufschnitt sortiert geschnitten gefächert Atmo...  Wurst Spezialitäten   \n",
      "2    Back Hinterschinken geschnitten in Schale 0,5kg             Schinken   \n",
      "3            Backhinterschinken rund 1/2 Stück 1,9kg             Schinken   \n",
      "4                            Bacon geschnitten 0,5kg                Speck   \n",
      "\n",
      "   Labels as num  \n",
      "0              1  \n",
      "1              1  \n",
      "2              2  \n",
      "3              2  \n",
      "4              3  \n"
     ]
    },
    {
     "name": "stderr",
     "output_type": "stream",
     "text": [
      "C:\\Users\\Max\\AppData\\Local\\Temp/ipykernel_4140/2325688676.py:13: SettingWithCopyWarning: \n",
      "A value is trying to be set on a copy of a slice from a DataFrame.\n",
      "Try using .loc[row_indexer,col_indexer] = value instead\n",
      "\n",
      "See the caveats in the documentation: https://pandas.pydata.org/pandas-docs/stable/user_guide/indexing.html#returning-a-view-versus-a-copy\n",
      "  df2[\"Labels as num\"] = df2[\"Artikelgruppe\"].apply(condition2,labels=l)\n"
     ]
    }
   ],
   "source": [
    "def condition2(x, labels):\n",
    "    controll = {}\n",
    "    labels = labels\n",
    "    controll[(labels[0])] = 1\n",
    "    for i in range(1, len(labels)+1):\n",
    "        for e in labels:\n",
    "            if e not in controll:\n",
    "                controll.update({e: list(controll.values())[-1]+1})\n",
    "    return controll[x]\n",
    "\n",
    "l = l =(df2[\"Artikelgruppe\"].unique()).tolist()\n",
    "\n",
    "df2[\"Labels as num\"] = df2[\"Artikelgruppe\"].apply(condition2,labels=l)\n",
    "\n",
    "print(df2.head(5))"
   ]
  },
  {
   "cell_type": "code",
   "execution_count": 32,
   "metadata": {},
   "outputs": [],
   "source": [
    "import re\n",
    "from nltk.corpus import stopwords\n",
    "\n",
    "german_stop_words = stopwords.words('german')\n",
    "\n",
    "\n",
    "\n",
    "customstomwords = []\n",
    "\n",
    "\n",
    "def stopwordpress(word):\n",
    "    splitted = word.split(\" \")\n",
    "    clear = []\n",
    "    for e in splitted:\n",
    "        if(re.search(r'[0-9]+', e)):\n",
    "            clear.append(e)\n",
    "        elif len(e) == 1:\n",
    "            clear.append(e)\n",
    "        elif(re.match('^Aroma', e)):\n",
    "            clear.append(e)\n",
    "        elif(re.match('^gegart', e)):\n",
    "            clear.append(e)\n",
    "        elif(re.match('^grob', e)):\n",
    "            clear.append(e)\n",
    "        elif(re.match('^klein', e)):\n",
    "            clear.append(e)\n",
    "        elif(re.match('^befüllt', e)):\n",
    "            clear.append(e)\n",
    "        elif(re.match('^geschnitten', e)):\n",
    "            clear.append(e)\n",
    "        elif(re.match('^gegart', e)):\n",
    "            clear.append(e)\n",
    "        elif(re.match('^fein', e)):\n",
    "            clear.append(e)           \n",
    "        elif e == \"\":\n",
    "            pass\n",
    "    return clear\n",
    "\n",
    "for e in df2[\"Artikel\"]:\n",
    "    customstomwords.append(stopwordpress(e))\n",
    "\n",
    "stopwordsfinal = [item for sublist in customstomwords for item in sublist]\n",
    "\n",
    "for e in german_stop_words:\n",
    "    stopwordsfinal.append(e)\n"
   ]
  },
  {
   "cell_type": "code",
   "execution_count": 33,
   "metadata": {},
   "outputs": [
    {
     "name": "stderr",
     "output_type": "stream",
     "text": [
      "C:\\Users\\Max\\AppData\\Local\\Packages\\PythonSoftwareFoundation.Python.3.9_qbz5n2kfra8p0\\LocalCache\\local-packages\\Python39\\site-packages\\sklearn\\feature_extraction\\text.py:396: UserWarning: Your stop_words may be inconsistent with your preprocessing. Tokenizing the stop words generated tokens ['1a', '4kg', '6kg', '70', '7kg', '8kg', '9kg', 'fach'] not in stop_words.\n",
      "  warnings.warn(\n",
      "C:\\Users\\Max\\AppData\\Local\\Packages\\PythonSoftwareFoundation.Python.3.9_qbz5n2kfra8p0\\LocalCache\\local-packages\\Python39\\site-packages\\sklearn\\naive_bayes.py:555: UserWarning: alpha too small will result in numeric errors, setting alpha = 1.0e-10\n",
      "  warnings.warn(\n"
     ]
    }
   ],
   "source": [
    "from sklearn.model_selection import train_test_split\n",
    "\n",
    "from sklearn.feature_extraction.text import CountVectorizer\n",
    "\n",
    "v = CountVectorizer(stop_words=stopwordsfinal)\n",
    "x_train_count = v.fit_transform(df2[\"Artikel\"])\n",
    "\n",
    "x_train, x_test, y_train, y_test = train_test_split(df[\"Artikel\"], df2[\"Labels as num\"], train_size=0.7, test_size=0.3, random_state=42)\n",
    "\n",
    "x = []\n",
    "ytest = []\n",
    "ytrain = []\n",
    "\n",
    "from sklearn.naive_bayes import MultinomialNB\n",
    "for i in range (0,50):\n",
    "    model = MultinomialNB(alpha=i)\n",
    "    model.fit(x_train_count, df2[\"Labels as num\"])\n",
    "    x.append(i)\n",
    "    ytest.append(model.score(v.transform(x_train),y_train))\n",
    "    ytrain.append(model.score(v.transform(x_test),y_test ))"
   ]
  },
  {
   "cell_type": "code",
   "execution_count": 34,
   "metadata": {},
   "outputs": [
    {
     "data": {
      "image/png": "[encoded data removed]",
      "text/plain": [
       "<Figure size 432x288 with 1 Axes>"
      ]
     },
     "metadata": {
      "needs_background": "light"
     },
     "output_type": "display_data"
    }
   ],
   "source": [
    "import matplotlib.pyplot as plt\n",
    "\n",
    "plt.plot(x, ytest, label=\"Test\")\n",
    "plt.plot(x, ytrain, label = \"Train\")\n",
    "plt.xlabel(\"Wert für Alpha\")\n",
    "plt.ylabel(\"Modelscore\")\n",
    "plt.legend()\n",
    "\n",
    "plt.show()\n",
    "\n",
    "#-> Sweet Spot ca bei alpha \"5\""
   ]
  },
  {
   "cell_type": "code",
   "execution_count": 35,
   "metadata": {},
   "outputs": [],
   "source": [
    "# Problem: Aktuelle Scores\n",
    "#0.7059724349157733\n",
    "#0.6646341463414634\n",
    "#Aktuell werden auch Grammangaben als Wörter verarbeitet, aber die Grammangabe bezieht sich nicht auf die Artikelgruppe\n",
    "#Lösung, Alle Zahlen bzw Grammangaben als Stopwords rausnehmen"
   ]
  },
  {
   "cell_type": "code",
   "execution_count": 36,
   "metadata": {},
   "outputs": [
    {
     "name": "stdout",
     "output_type": "stream",
     "text": [
      "1\n",
      "Wurst Spezialitäten\n",
      "2\n",
      "Schinken\n",
      "3\n",
      "Speck\n",
      "4\n",
      "Salami, Hartwurst\n",
      "5\n",
      "Brühwurst (Bockwurst, Wiener, Debrecziner, Knacker...)\n",
      "6\n",
      "Bratwurst\n",
      "7\n",
      "Streichwurst (Leberwurst, Blutwurst, Mettwurst,...)\n",
      "8\n",
      "Schweinefleisch\n",
      "9\n",
      "Rindfleisch\n",
      "10\n",
      "Hackfleischprodukte\n",
      "11\n",
      "Fleischsalat, Wurstsalat, Ochsenmaulsalat,\n",
      "12\n",
      "Hähnchenfleisch\n",
      "13\n",
      "Kalbfleisch\n",
      "14\n",
      "Kalbsinnereien\n",
      "15\n",
      "Käse am Stück / geschnitten in Kilo\n",
      "16\n",
      "Geflügelwurst\n",
      "17\n",
      "Putenfleisch\n",
      "18\n",
      "Geflügelbrust geräuchert\n"
     ]
    }
   ],
   "source": [
    "for i in range(1,19): \n",
    "    print(i)\n",
    "    print(df2[df2[\"Labels as num\"] == i][\"Artikelgruppe\"].unique()[0])\n",
    "\n"
   ]
  },
  {
   "cell_type": "code",
   "execution_count": 37,
   "metadata": {},
   "outputs": [
    {
     "name": "stdout",
     "output_type": "stream",
     "text": [
      "0.9173553719008265\n",
      "0.8653846153846154\n",
      "[9]\n",
      "[[0.06337229 0.03881644 0.00946397 0.0386986  0.05063833 0.01981189\n",
      "  0.02483403 0.05969143 0.53292534 0.02077312 0.00345133 0.00334643\n",
      "  0.03803024 0.00339807 0.00339807 0.01940045 0.02784568 0.00334643\n",
      "  0.00345133 0.00339807 0.00334643 0.01177514 0.00659267 0.00339807\n",
      "  0.00339807 0.00339807]]\n"
     ]
    }
   ],
   "source": [
    "model = MultinomialNB(alpha=0.2)\n",
    "model.fit(x_train_count, df2[\"Labels as num\"])\n",
    "x.append(i)\n",
    "ytest.append(model.score(v.transform(x_train),y_train))\n",
    "ytrain.append(model.score(v.transform(x_test),y_test))\n",
    "\n",
    "print(model.score(v.transform(x_train),y_train))\n",
    "print(model.score(v.transform(x_test),y_test))\n",
    "\n",
    "Testartikel = [\"Rinder Hackbraten vom Rind\"]\n",
    "\n",
    "art_count = v.transform(Testartikel)\n",
    "\n",
    "# Artikelgruppe ausgeben\n",
    "print(model.predict(art_count))\n",
    "print(model.predict_proba(art_count))\n"
   ]
  },
  {
   "cell_type": "code",
   "execution_count": 38,
   "metadata": {},
   "outputs": [
    {
     "name": "stdout",
     "output_type": "stream",
     "text": [
      "Log Probability of Each Feature per class :  (26, 314)\n"
     ]
    }
   ],
   "source": [
    "print(\"Log Probability of Each Feature per class : \", model.feature_log_prob_.shape)"
   ]
  },
  {
   "cell_type": "markdown",
   "metadata": {},
   "source": []
  },
  {
   "cell_type": "code",
   "execution_count": null,
   "metadata": {},
   "outputs": [],
   "source": []
  }
 ],
 "metadata": {
  "interpreter": {
   "hash": "4713cfa86091d21f16dc4b38b33dd7af146e209a44313f11a8da7ccc844b7909"
  },
  "kernelspec": {
   "display_name": "Python 3.9.1 64-bit",
   "language": "python",
   "name": "python3"
  },
  "language_info": {
   "codemirror_mode": {
    "name": "ipython",
    "version": 3
   },
   "file_extension": ".py",
   "mimetype": "text/x-python",
   "name": "python",
   "nbconvert_exporter": "python",
   "pygments_lexer": "ipython3",
   "version": "3.9.12"
  },
  "orig_nbformat": 4
 },
 "nbformat": 4,
 "nbformat_minor": 2
}
