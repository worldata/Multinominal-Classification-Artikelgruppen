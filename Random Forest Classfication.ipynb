{
 "cells": [
  {
   "cell_type": "code",
   "execution_count": 68,
   "metadata": {},
   "outputs": [
    {
     "name": "stdout",
     "output_type": "stream",
     "text": [
      "                              Artikel           Artikelgruppe\n",
      "0  Alpen Maultaschen gerollt 4 x 100g  Fertigprodukte in Kilo\n",
      "1  Alpenmaultaschen gerollt 30 x 100g             Maultaschen\n",
      "2  Alpenmaultaschen gerollt 30 x 100g             Maultaschen\n",
      "3  Alpenmaultaschen gerollt 30 x 100g             Maultaschen\n",
      "4          Apfel Griebenschmalz 150g       Fett Spezialitäten\n"
     ]
    }
   ],
   "source": [
    "import pandas as pd\n",
    "import numpy as np\n",
    "\n",
    "\n",
    "df = pd.read_excel(r\"C:\\Users\\Maximilian.Rasch\\Desktop\\Projekt 2\\MS Bestelleinheiten.xlsx\", sheet_name=\"Data\")\n",
    "\n",
    "\n",
    "#df = pd.read_excel(r\"C:\\Users\\Maximilian.Rasch\\Desktop\\Projekt 2\\Palmberger Bestelleinheiten.xlsx\", sheet_name=\"Data\")\n",
    "\n",
    "df2 = df[[\"Artikel\", \"Artikelgruppe\"]]\n",
    "\n",
    "print(df2.head(5))"
   ]
  },
  {
   "cell_type": "code",
   "execution_count": 72,
   "metadata": {},
   "outputs": [
    {
     "name": "stdout",
     "output_type": "stream",
     "text": [
      "                              Artikel           Artikelgruppe  Labels as num\n",
      "0  Alpen Maultaschen gerollt 4 x 100g  Fertigprodukte in Kilo              1\n",
      "1  Alpenmaultaschen gerollt 30 x 100g             Maultaschen              2\n",
      "2  Alpenmaultaschen gerollt 30 x 100g             Maultaschen              2\n",
      "3  Alpenmaultaschen gerollt 30 x 100g             Maultaschen              2\n",
      "4          Apfel Griebenschmalz 150g       Fett Spezialitäten              3\n"
     ]
    },
    {
     "name": "stderr",
     "output_type": "stream",
     "text": [
      "<ipython-input-72-cc599ee297e6>:13: SettingWithCopyWarning: \n",
      "A value is trying to be set on a copy of a slice from a DataFrame.\n",
      "Try using .loc[row_indexer,col_indexer] = value instead\n",
      "\n",
      "See the caveats in the documentation: https://pandas.pydata.org/pandas-docs/stable/user_guide/indexing.html#returning-a-view-versus-a-copy\n",
      "  df2[\"Labels as num\"] = df2[\"Artikelgruppe\"].apply(condition2,labels=l)\n"
     ]
    }
   ],
   "source": [
    "def condition2(x, labels):\n",
    "    controll = {}\n",
    "    labels = labels\n",
    "    controll[(labels[0])] = 1\n",
    "    for i in range(1, len(labels)+1):\n",
    "        for e in labels:\n",
    "            if e not in controll:\n",
    "                controll.update({e: list(controll.values())[-1]+1})\n",
    "    return controll[x]\n",
    "\n",
    "l = l =(df2[\"Artikelgruppe\"].unique()).tolist()\n",
    "\n",
    "df2[\"Labels as num\"] = df2[\"Artikelgruppe\"].apply(condition2,labels=l)\n",
    "\n",
    "print(df2.head(5))"
   ]
  },
  {
   "cell_type": "code",
   "execution_count": 75,
   "metadata": {},
   "outputs": [],
   "source": [
    "import re\n",
    "from nltk.corpus import stopwords\n",
    "\n",
    "german_stop_words = stopwords.words('german')\n",
    "\n",
    "\n",
    "customstomwords = []\n",
    "\n",
    "\n",
    "def stopwordpress(word):\n",
    "    splitted = word.split(\" \")\n",
    "    clear = []\n",
    "    for e in splitted:\n",
    "        if(re.search(r'[0-9]+', e)):\n",
    "            clear.append(e)\n",
    "        elif len(e) == 1:\n",
    "            clear.append(e)\n",
    "        elif(re.match('^Aroma', e)):\n",
    "            clear.append(e)\n",
    "        elif(re.match('^gegart', e)):\n",
    "            clear.append(e)\n",
    "        elif(re.match('^grob', e)):\n",
    "            clear.append(e)\n",
    "        elif(re.match('^klein', e)):\n",
    "            clear.append(e)\n",
    "        elif(re.match('^befüllt', e)):\n",
    "            clear.append(e)\n",
    "        elif(re.match('^geschnitten', e)):\n",
    "            clear.append(e)\n",
    "        elif(re.match('^gegart', e)):\n",
    "            clear.append(e)\n",
    "        elif(re.match('^fein', e)):\n",
    "            clear.append(e)           \n",
    "        elif e == \"\":\n",
    "            pass\n",
    "    return clear\n",
    "\n",
    "for e in df2[\"Artikel\"]:\n",
    "    customstomwords.append(stopwordpress(e))\n",
    "\n",
    "stopwordsfinal = [item for sublist in customstomwords for item in sublist]\n",
    "\n",
    "for e in german_stop_words:\n",
    "    stopwordsfinal.append(e)\n"
   ]
  },
  {
   "cell_type": "code",
   "execution_count": 97,
   "metadata": {},
   "outputs": [
    {
     "name": "stdout",
     "output_type": "stream",
     "text": [
      "0.851138353765324\n",
      "0.8414634146341463\n"
     ]
    },
    {
     "name": "stderr",
     "output_type": "stream",
     "text": [
      "C:\\Users\\Maximilian.Rasch\\AppData\\Local\\Programs\\Python\\Python39\\lib\\site-packages\\sklearn\\feature_extraction\\text.py:396: UserWarning: Your stop_words may be inconsistent with your preprocessing. Tokenizing the stop words generated tokens ['00', '05kg', '105g', '17', '19', '25kg', '34', '35', '43', '4lbs', '5cm', '7kg', '8kg', '9kg', 'aromabox', 'aromapack', 'aromapackung', 'aromasch', 'aromaschale', 'aromaschlauch', 'aromaschutz', 'bierschinken160g', 'ca', 'i1', 'lose', 'paar', 'sb', 'scheibe'] not in stop_words.\n",
      "  warnings.warn(\n"
     ]
    },
    {
     "data": {
      "text/plain": [
       "array([[1, 0, 0, 0, 0, 0, 0],\n",
       "       [0, 2, 0, 0, 0, 0, 0],\n",
       "       [0, 0, 1, 0, 0, 0, 0],\n",
       "       [0, 0, 0, 1, 0, 0, 0],\n",
       "       [0, 0, 0, 0, 2, 0, 0],\n",
       "       [0, 0, 0, 0, 0, 2, 0],\n",
       "       [0, 0, 0, 0, 0, 0, 1]], dtype=int64)"
      ]
     },
     "execution_count": 97,
     "metadata": {},
     "output_type": "execute_result"
    }
   ],
   "source": [
    "from sklearn.metrics import confusion_matrix\n",
    "from sklearn.naive_bayes import MultinomialNB\n",
    "from sklearn.model_selection import train_test_split\n",
    "from sklearn.feature_extraction.text import CountVectorizer\n",
    "\n",
    "v = CountVectorizer(stop_words=stopwordsfinal)\n",
    "x_train_count = v.fit_transform(df2[\"Artikel\"])\n",
    "\n",
    "\n",
    "x_train, x_test, y_train, y_test = train_test_split(x_train_count, df2[\"Labels as num\"], train_size=0.7, test_size=0.3, random_state=42)\n",
    "\n",
    "model = MultinomialNB(alpha=0.2)\n",
    "model.fit(x_train_count, df2[\"Labels as num\"])\n",
    "\n",
    "print(model.score(x_train,y_train))\n",
    "print(model.score(x_test,y_test))\n",
    "\n",
    "y_pred = model.predict(x_test)\n",
    "cm = confusion_matrix(y_test[0:10],y_pred[0:10])\n",
    "cm\n"
   ]
  },
  {
   "cell_type": "code",
   "execution_count": 98,
   "metadata": {},
   "outputs": [
    {
     "data": {
      "text/plain": [
       "Text(42.0, 0.5, 'Truth')"
      ]
     },
     "execution_count": 98,
     "metadata": {},
     "output_type": "execute_result"
    },
    {
     "data": {
      "image/png": "[encoded data removed]",
      "text/plain": [
       "<Figure size 504x360 with 2 Axes>"
      ]
     },
     "metadata": {
      "needs_background": "light"
     },
     "output_type": "display_data"
    }
   ],
   "source": [
    "import matplotlib.pyplot as plt\n",
    "import seaborn as sns\n",
    "\n",
    "plt.figure(figsize=(7,5))\n",
    "sns.heatmap(cm,annot=True)\n",
    "plt.xlabel(\"Predicted\")\n",
    "plt.ylabel(\"Truth\")"
   ]
  },
  {
   "cell_type": "code",
   "execution_count": 102,
   "metadata": {},
   "outputs": [
    {
     "name": "stdout",
     "output_type": "stream",
     "text": [
      "              precision    recall  f1-score   support\n",
      "\n",
      "           1       0.53      1.00      0.70        16\n",
      "           2       0.80      0.62      0.70        13\n",
      "           3       0.00      0.00      0.00         2\n",
      "           4       1.00      1.00      1.00         2\n",
      "           5       1.00      0.92      0.96        13\n",
      "           6       1.00      0.92      0.96        13\n",
      "           8       0.86      1.00      0.92        12\n",
      "           9       1.00      0.50      0.67         2\n",
      "          10       0.83      0.97      0.90        31\n",
      "          11       0.96      1.00      0.98        26\n",
      "          12       0.80      0.97      0.88        38\n",
      "          13       0.75      0.60      0.67         5\n",
      "          14       1.00      0.75      0.86         4\n",
      "          16       1.00      1.00      1.00         3\n",
      "          17       1.00      0.67      0.80         3\n",
      "          18       1.00      0.50      0.67         4\n",
      "          19       0.83      0.83      0.83         6\n",
      "          21       0.00      0.00      0.00         1\n",
      "          22       0.50      1.00      0.67         1\n",
      "          23       0.00      0.00      0.00         1\n",
      "          27       1.00      1.00      1.00         3\n",
      "          28       1.00      1.00      1.00         1\n",
      "          29       0.00      0.00      0.00         1\n",
      "          31       1.00      1.00      1.00         3\n",
      "          36       0.00      0.00      0.00         2\n",
      "          37       0.00      0.00      0.00         1\n",
      "          38       1.00      1.00      1.00         7\n",
      "          42       1.00      1.00      1.00         5\n",
      "          43       0.00      0.00      0.00         1\n",
      "          44       1.00      0.50      0.67         2\n",
      "          45       0.00      0.00      0.00         1\n",
      "          47       0.00      0.00      0.00         1\n",
      "          48       1.00      1.00      1.00         1\n",
      "          50       1.00      1.00      1.00         4\n",
      "          51       1.00      1.00      1.00         1\n",
      "          53       0.00      0.00      0.00         1\n",
      "          55       0.00      0.00      0.00         3\n",
      "          56       0.80      0.57      0.67         7\n",
      "          58       0.00      0.00      0.00         1\n",
      "          59       0.50      1.00      0.67         1\n",
      "          61       1.00      1.00      1.00         1\n",
      "          62       0.00      0.00      0.00         2\n",
      "\n",
      "    accuracy                           0.84       246\n",
      "   macro avg       0.62      0.60      0.60       246\n",
      "weighted avg       0.80      0.84      0.81       246\n",
      "\n"
     ]
    },
    {
     "name": "stderr",
     "output_type": "stream",
     "text": [
      "C:\\Users\\Maximilian.Rasch\\AppData\\Local\\Programs\\Python\\Python39\\lib\\site-packages\\sklearn\\metrics\\_classification.py:1318: UndefinedMetricWarning: Precision and F-score are ill-defined and being set to 0.0 in labels with no predicted samples. Use `zero_division` parameter to control this behavior.\n",
      "  _warn_prf(average, modifier, msg_start, len(result))\n",
      "C:\\Users\\Maximilian.Rasch\\AppData\\Local\\Programs\\Python\\Python39\\lib\\site-packages\\sklearn\\metrics\\_classification.py:1318: UndefinedMetricWarning: Precision and F-score are ill-defined and being set to 0.0 in labels with no predicted samples. Use `zero_division` parameter to control this behavior.\n",
      "  _warn_prf(average, modifier, msg_start, len(result))\n",
      "C:\\Users\\Maximilian.Rasch\\AppData\\Local\\Programs\\Python\\Python39\\lib\\site-packages\\sklearn\\metrics\\_classification.py:1318: UndefinedMetricWarning: Precision and F-score are ill-defined and being set to 0.0 in labels with no predicted samples. Use `zero_division` parameter to control this behavior.\n",
      "  _warn_prf(average, modifier, msg_start, len(result))\n"
     ]
    }
   ],
   "source": [
    "from sklearn.metrics import classification_report\n",
    "\n",
    "print(classification_report(y_test, y_pred))"
   ]
  },
  {
   "cell_type": "code",
   "execution_count": 88,
   "metadata": {},
   "outputs": [
    {
     "name": "stdout",
     "output_type": "stream",
     "text": [
      "1\n",
      "Fertigprodukte in Kilo\n",
      "2\n",
      "Maultaschen\n",
      "3\n",
      "Fett Spezialitäten\n",
      "4\n",
      "NF Fremdleistungen in Stück\n",
      "5\n",
      "Schinken\n",
      "6\n",
      "Brühwurst (Bockwurst, Wiener, Debrecziner, Knacker...)\n",
      "7\n",
      "Speck Spezialtitäten\n",
      "8\n",
      "Bratwurst\n",
      "9\n",
      "Wurstsülze, Fleischsülze -Aspik, Corned Beef\n",
      "10\n",
      "Schweinefleisch\n",
      "11\n",
      "Rindfleisch\n",
      "12\n",
      "Wurst Spezialitäten\n",
      "13\n",
      "Wurst als Portionsware / Stück / in Dosen in Stück\n",
      "14\n",
      "Knödel, Klösse in Kilo\n",
      "15\n",
      "Saucen Spezialitäten\n",
      "16\n",
      "Hackfleischprodukte\n",
      "17\n",
      "Salami, Hartwurst\n",
      "18\n",
      "Fertigprodukte in Stück\n"
     ]
    }
   ],
   "source": [
    "for i in range(1,19): \n",
    "    print(i)\n",
    "    print(df2[df2[\"Labels as num\"] == i][\"Artikelgruppe\"].unique()[0])\n",
    "\n"
   ]
  },
  {
   "cell_type": "code",
   "execution_count": null,
   "metadata": {},
   "outputs": [],
   "source": []
  },
  {
   "cell_type": "code",
   "execution_count": null,
   "metadata": {},
   "outputs": [],
   "source": []
  },
  {
   "cell_type": "markdown",
   "metadata": {},
   "source": []
  },
  {
   "cell_type": "code",
   "execution_count": null,
   "metadata": {},
   "outputs": [],
   "source": []
  }
 ],
 "metadata": {
  "interpreter": {
   "hash": "4713cfa86091d21f16dc4b38b33dd7af146e209a44313f11a8da7ccc844b7909"
  },
  "kernelspec": {
   "display_name": "Python 3.9.1 64-bit",
   "language": "python",
   "name": "python3"
  },
  "language_info": {
   "codemirror_mode": {
    "name": "ipython",
    "version": 3
   },
   "file_extension": ".py",
   "mimetype": "text/x-python",
   "name": "python",
   "nbconvert_exporter": "python",
   "pygments_lexer": "ipython3",
   "version": "3.9.1"
  },
  "orig_nbformat": 4
 },
 "nbformat": 4,
 "nbformat_minor": 2
}
